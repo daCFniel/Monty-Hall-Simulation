{
 "cells": [
  {
   "cell_type": "markdown",
   "id": "f79ae75a",
   "metadata": {},
   "source": [
    "# COMP6481\n",
    "\n",
    "🧑 **Daniel Bielech** (db662)\n",
    "\n",
    "🏫 University of Kent\n",
    "\n",
    "\n",
    "## Contents\n",
    "- [Game show problem](#Game-show-problem)\n",
    "    - [Pen-and-paper explanation](#Pen-and-paper-explanation)\n",
    "    - [Python simulation](#Python-simulation)\n",
    "    - [Reflection](#Reflection)"
   ]
  },
  {
   "cell_type": "markdown",
   "id": "c29ab5c0",
   "metadata": {},
   "source": [
    "## Game show problem\n",
    "\n",
    "### Pen-and-paper explanation\n",
    "\n",
    "Let's say you're always going to pick door #1, and the presenter knows where the prize is so he'll always open the door without the prize behind it:\n",
    "\n",
    "The prize is behind door #1:\n",
    "\n",
    "[**x**] [-] [-] = Host opens door #2. If you switch from door #1, you get **nothing**.\n",
    "\n",
    "The prize is behind door #2:\n",
    "\n",
    "[-] [**x**] [-] = Host opens door #3. If you switch from door #1, you get **the prize**.\n",
    "\n",
    "The prize is behind door #3:\n",
    "\n",
    "[-] [-] [**x**] = Host opens door # 2. If you switch from door #1, you get **the prize**.\n",
    "\n",
    "So in **2/3** of the cases, if you switch, you get the prize. Therefore it is more desirable to switch the door."
   ]
  },
  {
   "cell_type": "markdown",
   "id": "d7d7e935",
   "metadata": {},
   "source": [
    "### Python simulation"
   ]
  },
  {
   "cell_type": "code",
   "execution_count": 12,
   "id": "1104237b",
   "metadata": {},
   "outputs": [
    {
     "name": "stdout",
     "output_type": "stream",
     "text": [
      "Wins by switching: 333406\n",
      "Wins by staying: 166792\n",
      "Chance to win by switching: 66.7%\n",
      "Chance to win by staying: 33.3%\n"
     ]
    }
   ],
   "source": [
    "import random\n",
    "\n",
    "n_samples = 1000000\n",
    "wins_by_staying = 0\n",
    "wins_by_switching = 0\n",
    "stays = 0\n",
    "switches = 0\n",
    "for game in range (n_samples):\n",
    "    doors = [1, 2, 3]\n",
    "    car_door = random.choice(doors)\n",
    "    initial_choice = random.choice(doors)\n",
    "    \n",
    "    # In either case, the presenter opens the door with a goat behind it\n",
    "    if initial_choice == car_door:\n",
    "        doors.remove(random.choice([d for d in doors if d != initial_choice]))\n",
    "    else:\n",
    "        goat_door = random.choice([d for d in doors if d != initial_choice and d != car_door])\n",
    "        doors.remove(goat_door)\n",
    "    # Player final decision - switch or stay\n",
    "    final_choice = random.choice(doors)\n",
    "    if final_choice == initial_choice:\n",
    "        # Player stays\n",
    "        stays += 1\n",
    "        if final_choice == car_door:\n",
    "            wins_by_staying += 1\n",
    "    else:\n",
    "        # Player switches\n",
    "        switches += 1\n",
    "        if final_choice == car_door:\n",
    "            wins_by_switching += 1\n",
    "\n",
    "   \n",
    "\n",
    "if (switches + stays) != n_samples:\n",
    "    print (\"Something went wrong\")\n",
    "\n",
    "print(f\"Wins by switching: {wins_by_switching}\")\n",
    "print(f\"Wins by staying: {wins_by_staying}\")\n",
    "chance_to_win_by_switching = round((wins_by_switching / (wins_by_switching + wins_by_staying)) * 100, 1)\n",
    "change_to_win_by_staying = round((wins_by_staying / (wins_by_switching + wins_by_staying)) * 100, 1)\n",
    "print(f\"Chance to win by switching: {chance_to_win_by_switching}%\")\n",
    "print(f\"Chance to win by staying: {change_to_win_by_staying}%\")"
   ]
  },
  {
   "attachments": {},
   "cell_type": "markdown",
   "id": "f6e2c2bb",
   "metadata": {},
   "source": [
    "### Reflection\n",
    "\n",
    "The results of the simulation show that the player has a higher chance of winning the car if they switch their choice, rather than sticking with their initial choice. The probability of winning if switching is 2/3 while the probability of winning if staying is 1/3.\n",
    "\n",
    "The technical justification for the results is that when the player makes the first choice, there are three possible doors, one with the car and two with goats. The player's first choice has a 1/3 probability of being the car. When the presenter opens one of the remaining doors, revealing a goat, there is a 2/3 chance that the car is behind the remaining door, because there is a 2/3 chance that the car was not behind the player's first choice. Therefore, by switching, the player increases the probability of winning from 1/3 to 2/3."
   ]
  }
 ],
 "metadata": {
  "kernelspec": {
   "display_name": "Python 3",
   "language": "python",
   "name": "python3"
  },
  "language_info": {
   "codemirror_mode": {
    "name": "ipython",
    "version": 3
   },
   "file_extension": ".py",
   "mimetype": "text/x-python",
   "name": "python",
   "nbconvert_exporter": "python",
   "pygments_lexer": "ipython3",
   "version": "3.10.9 (tags/v3.10.9:1dd9be6, Dec  6 2022, 20:01:21) [MSC v.1934 64 bit (AMD64)]"
  },
  "vscode": {
   "interpreter": {
    "hash": "3a0d680ba4c87cc2468cfcc19bed43f9ce6d0242f5ece5c929067f12117ed9af"
   }
  }
 },
 "nbformat": 4,
 "nbformat_minor": 5
}
